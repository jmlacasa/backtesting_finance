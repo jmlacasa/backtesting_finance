{
 "cells": [
  {
   "cell_type": "code",
   "execution_count": 1,
   "metadata": {},
   "outputs": [],
   "source": [
    "import MetaTrader5 as mt5\n",
    "import pandas as pd\n",
    "import pytz\n",
    "from datetime import datetime, timedelta\n",
    "import time\n"
   ]
  },
  {
   "cell_type": "code",
   "execution_count": 2,
   "metadata": {},
   "outputs": [],
   "source": [
    "\n",
    "# connect to MetaTrader 4 terminal\n",
    "if not mt5.initialize(login=69380859, server=\"MetaQuotes-Demo\",password=\"wwnspfp0\"):\n",
    "    print(\"initialize() failed, error code =\",mt5.last_error())\n",
    "    mt5.shutdown()\n"
   ]
  },
  {
   "cell_type": "code",
   "execution_count": 3,
   "metadata": {},
   "outputs": [
    {
     "name": "stdout",
     "output_type": "stream",
     "text": [
      "[(1681085340, 1.08953, 1.08961, 1.08953, 1.08961,  2, 130, 0)\n",
      " (1681085400, 1.08964, 1.08964, 1.08964, 1.08964,  1, 127, 0)\n",
      " (1681085460, 1.08955, 1.08955, 1.08955, 1.08955,  1, 136, 0) ...\n",
      " (1686586680, 1.07712, 1.07712, 1.07702, 1.07704, 38,   0, 0)\n",
      " (1686586740, 1.07704, 1.07705, 1.0769 , 1.07696, 48,   0, 0)\n",
      " (1686586800, 1.07696, 1.07703, 1.07689, 1.07692, 38,   0, 0)]\n"
     ]
    }
   ],
   "source": [
    "\n",
    "# set the instrument and timeframe\n",
    "symbol = \"EURUSD\"\n",
    "timeframe = mt5.TIMEFRAME_M1\n",
    "\n",
    "# set the start and end time for the data\n",
    "end_time = datetime.now()- timedelta(days=0)\n",
    "start_time = end_time - timedelta(days=65)\n",
    "\n",
    "# convert the times to UTC\n",
    "timezone = pytz.timezone(\"Etc/UTC\")\n",
    "start_time = timezone.localize(start_time)\n",
    "end_time = timezone.localize(end_time)\n",
    "\n",
    "# request the historical data from MetaTrader 4\n",
    "rates = mt5.copy_rates_range(symbol, timeframe, start_time, end_time)\n",
    "print(rates)"
   ]
  },
  {
   "cell_type": "code",
   "execution_count": 4,
   "metadata": {},
   "outputs": [
    {
     "name": "stdout",
     "output_type": "stream",
     "text": [
      "                        open     high      low    close  tick_volume\n",
      "time                                                                \n",
      "2023-04-10 00:09:00  1.08953  1.08961  1.08953  1.08961            2\n",
      "2023-04-10 00:10:00  1.08964  1.08964  1.08964  1.08964            1\n",
      "2023-04-10 00:11:00  1.08955  1.08955  1.08955  1.08955            1\n",
      "2023-04-10 00:12:00  1.08955  1.08955  1.08954  1.08954            2\n",
      "2023-04-10 00:13:00  1.09005  1.09005  1.08954  1.08967            4 65405\n"
     ]
    }
   ],
   "source": [
    "\n",
    "# convert the data to a Pandas DataFrame\n",
    "mt4_new = pd.DataFrame(rates)\n",
    "mt4_new['time'] = pd.to_datetime(mt4_new['time'], unit='s')\n",
    "mt4_new.set_index('time', inplace=True)\n",
    "mt4_new.drop(['spread', 'real_volume'], axis=1, inplace=True)\n",
    "\n",
    "# print the first 5 rows of the data\n",
    "print(mt4_new.head(), len(mt4_new))\n"
   ]
  },
  {
   "cell_type": "code",
   "execution_count": 8,
   "metadata": {},
   "outputs": [
    {
     "name": "stdout",
     "output_type": "stream",
     "text": [
      "opening existintg dataframe\n"
     ]
    }
   ],
   "source": [
    "try:\n",
    "    mt4_current = pd.read_csv('backtest_data/mt4_eurusd_1m.csv', index_col=0, parse_dates=True)\n",
    "    print(\"opening existintg dataframe\")\n",
    "except:\n",
    "    print(\"creating empty dataframe\")\n",
    "    mt4_current = pd.DataFrame()"
   ]
  },
  {
   "cell_type": "code",
   "execution_count": 9,
   "metadata": {},
   "outputs": [],
   "source": [
    "consolidated = pd.concat([mt4_current, mt4_new])\n",
    "consolidated = consolidated[~consolidated.index.duplicated(keep='first')].sort_index()"
   ]
  },
  {
   "cell_type": "code",
   "execution_count": 10,
   "metadata": {},
   "outputs": [],
   "source": [
    "consolidated.to_csv('mt4_eurusd.csv', index=True)"
   ]
  },
  {
   "cell_type": "code",
   "execution_count": 11,
   "metadata": {},
   "outputs": [
    {
     "data": {
      "text/plain": [
       "True"
      ]
     },
     "execution_count": 11,
     "metadata": {},
     "output_type": "execute_result"
    }
   ],
   "source": [
    "\n",
    "# disconnect from the MetaTrader 4 terminal\n",
    "mt5.shutdown()\n"
   ]
  }
 ],
 "metadata": {
  "kernelspec": {
   "display_name": "bcs-trade-bot",
   "language": "python",
   "name": "python3"
  },
  "language_info": {
   "codemirror_mode": {
    "name": "ipython",
    "version": 3
   },
   "file_extension": ".py",
   "mimetype": "text/x-python",
   "name": "python",
   "nbconvert_exporter": "python",
   "pygments_lexer": "ipython3",
   "version": "3.10.9"
  },
  "orig_nbformat": 4,
  "vscode": {
   "interpreter": {
    "hash": "59ffde0aef6fdf021d7d3c86ea0ae8609c18a45af088f7ae53b1ae894d216dd9"
   }
  }
 },
 "nbformat": 4,
 "nbformat_minor": 2
}
